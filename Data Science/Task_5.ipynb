{
  "nbformat": 4,
  "nbformat_minor": 0,
  "metadata": {
    "colab": {
      "name": "Task 5.ipynb",
      "provenance": [],
      "collapsed_sections": [],
      "authorship_tag": "ABX9TyNYvW/AQfSnfHhPfVn+4GCC",
      "include_colab_link": true
    },
    "kernelspec": {
      "name": "python3",
      "display_name": "Python 3"
    },
    "language_info": {
      "name": "python"
    }
  },
  "cells": [
    {
      "cell_type": "markdown",
      "metadata": {
        "id": "view-in-github",
        "colab_type": "text"
      },
      "source": [
        "<a href=\"https://colab.research.google.com/github/tusharbargal81/LGM-VIP-DATA-SCUENCE/blob/main/Data%20Science/Task_5.ipynb\" target=\"_parent\"><img src=\"https://colab.research.google.com/assets/colab-badge.svg\" alt=\"Open In Colab\"/></a>"
      ]
    },
    {
      "cell_type": "markdown",
      "source": [
        "LetsGrowMore Data Science Internship (VIP)\n",
        "\n",
        "Name: Tushar Subhash Bargal\n",
        "\n",
        "Title: Exploratory Data Analysis on Dataset - Terrorism\n",
        "\n",
        "Level: Intermediate\n",
        "\n",
        "Batch: May"
      ],
      "metadata": {
        "id": "si40GzPg5Wdp"
      }
    },
    {
      "cell_type": "code",
      "source": [
        "import pandas as pd\n",
        "import numpy as np\n",
        "import matplotlib.pyplot as plt\n",
        "import seaborn as sns"
      ],
      "metadata": {
        "id": "IvA18qhi5X2N"
      },
      "execution_count": null,
      "outputs": []
    },
    {
      "cell_type": "markdown",
      "source": [
        "Reading the Dataset"
      ],
      "metadata": {
        "id": "hDBpjzNB6WvD"
      }
    },
    {
      "cell_type": "code",
      "source": [
        "df = pd.read_csv(\"globalterrorismdb_0718dist.csv\",encoding = 'latin1')\n",
        "df"
      ],
      "metadata": {
        "colab": {
          "base_uri": "https://localhost:8080/",
          "height": 557
        },
        "id": "KP3x0avL6dO_",
        "outputId": "afeb0172-cefa-496a-db20-be917639264d"
      },
      "execution_count": null,
      "outputs": [
        {
          "output_type": "stream",
          "name": "stderr",
          "text": [
            "/usr/local/lib/python3.7/dist-packages/IPython/core/interactiveshell.py:2882: DtypeWarning: Columns (4,31,33,76,94,96,121) have mixed types.Specify dtype option on import or set low_memory=False.\n",
            "  exec(code_obj, self.user_global_ns, self.user_ns)\n"
          ]
        },
        {
          "output_type": "execute_result",
          "data": {
            "text/plain": [
              "            eventid  iyear  imonth  iday approxdate  extended resolution  \\\n",
              "0      197000000001   1970       7     2        NaN         0        NaN   \n",
              "1      197000000002   1970       0     0        NaN         0        NaN   \n",
              "2      197001000001   1970       1     0        NaN         0        NaN   \n",
              "3      197001000002   1970       1     0        NaN         0        NaN   \n",
              "4      197001000003   1970       1     0        NaN         0        NaN   \n",
              "...             ...    ...     ...   ...        ...       ...        ...   \n",
              "14254  198108290004   1981       8    29        NaN         0        NaN   \n",
              "14255  198108290005   1981       8    29        NaN         0        NaN   \n",
              "14256  198108290006   1981       8    29        NaN         0        NaN   \n",
              "14257  198108290007   1981       8    29        NaN         0        NaN   \n",
              "14258  198108300001   1981       8    30        NaN         0        NaN   \n",
              "\n",
              "       country               country_txt  region  ... addnotes scite1 scite2  \\\n",
              "0           58        Dominican Republic       2  ...      NaN    NaN    NaN   \n",
              "1          130                    Mexico       1  ...      NaN    NaN    NaN   \n",
              "2          160               Philippines       5  ...      NaN    NaN    NaN   \n",
              "3           78                    Greece       8  ...      NaN    NaN    NaN   \n",
              "4          101                     Japan       4  ...      NaN    NaN    NaN   \n",
              "...        ...                       ...     ...  ...      ...    ...    ...   \n",
              "14254       97                    Israel      10  ...      NaN    NaN    NaN   \n",
              "14255       15                   Austria       8  ...      NaN    NaN    NaN   \n",
              "14256       94                      Iran      10  ...      NaN    NaN    NaN   \n",
              "14257       94                      Iran      10  ...      NaN    NaN    NaN   \n",
              "14258      155  West Bank and Gaza Strip      10  ...      NaN    NaN    NaN   \n",
              "\n",
              "       scite3  dbsource  INT_LOG  INT_IDEO INT_MISC INT_ANY  related  \n",
              "0         NaN      PGIS      0.0       0.0      0.0     0.0      NaN  \n",
              "1         NaN      PGIS      0.0       1.0      1.0     1.0      NaN  \n",
              "2         NaN      PGIS     -9.0      -9.0      1.0     1.0      NaN  \n",
              "3         NaN      PGIS     -9.0      -9.0      1.0     1.0      NaN  \n",
              "4         NaN      PGIS     -9.0      -9.0      1.0     1.0      NaN  \n",
              "...       ...       ...      ...       ...      ...     ...      ...  \n",
              "14254     NaN      PGIS      1.0       0.0      0.0     1.0      NaN  \n",
              "14255     NaN      PGIS     -9.0      -9.0      0.0    -9.0      NaN  \n",
              "14256     NaN      PGIS     -9.0      -9.0      0.0    -9.0      NaN  \n",
              "14257     NaN      PGIS     -9.0      -9.0      0.0    -9.0      NaN  \n",
              "14258     NaN       NaN      NaN       NaN      NaN     NaN      NaN  \n",
              "\n",
              "[14259 rows x 135 columns]"
            ],
            "text/html": [
              "\n",
              "  <div id=\"df-8724af27-bc4f-4a1a-b080-d378a9372c4b\">\n",
              "    <div class=\"colab-df-container\">\n",
              "      <div>\n",
              "<style scoped>\n",
              "    .dataframe tbody tr th:only-of-type {\n",
              "        vertical-align: middle;\n",
              "    }\n",
              "\n",
              "    .dataframe tbody tr th {\n",
              "        vertical-align: top;\n",
              "    }\n",
              "\n",
              "    .dataframe thead th {\n",
              "        text-align: right;\n",
              "    }\n",
              "</style>\n",
              "<table border=\"1\" class=\"dataframe\">\n",
              "  <thead>\n",
              "    <tr style=\"text-align: right;\">\n",
              "      <th></th>\n",
              "      <th>eventid</th>\n",
              "      <th>iyear</th>\n",
              "      <th>imonth</th>\n",
              "      <th>iday</th>\n",
              "      <th>approxdate</th>\n",
              "      <th>extended</th>\n",
              "      <th>resolution</th>\n",
              "      <th>country</th>\n",
              "      <th>country_txt</th>\n",
              "      <th>region</th>\n",
              "      <th>...</th>\n",
              "      <th>addnotes</th>\n",
              "      <th>scite1</th>\n",
              "      <th>scite2</th>\n",
              "      <th>scite3</th>\n",
              "      <th>dbsource</th>\n",
              "      <th>INT_LOG</th>\n",
              "      <th>INT_IDEO</th>\n",
              "      <th>INT_MISC</th>\n",
              "      <th>INT_ANY</th>\n",
              "      <th>related</th>\n",
              "    </tr>\n",
              "  </thead>\n",
              "  <tbody>\n",
              "    <tr>\n",
              "      <th>0</th>\n",
              "      <td>197000000001</td>\n",
              "      <td>1970</td>\n",
              "      <td>7</td>\n",
              "      <td>2</td>\n",
              "      <td>NaN</td>\n",
              "      <td>0</td>\n",
              "      <td>NaN</td>\n",
              "      <td>58</td>\n",
              "      <td>Dominican Republic</td>\n",
              "      <td>2</td>\n",
              "      <td>...</td>\n",
              "      <td>NaN</td>\n",
              "      <td>NaN</td>\n",
              "      <td>NaN</td>\n",
              "      <td>NaN</td>\n",
              "      <td>PGIS</td>\n",
              "      <td>0.0</td>\n",
              "      <td>0.0</td>\n",
              "      <td>0.0</td>\n",
              "      <td>0.0</td>\n",
              "      <td>NaN</td>\n",
              "    </tr>\n",
              "    <tr>\n",
              "      <th>1</th>\n",
              "      <td>197000000002</td>\n",
              "      <td>1970</td>\n",
              "      <td>0</td>\n",
              "      <td>0</td>\n",
              "      <td>NaN</td>\n",
              "      <td>0</td>\n",
              "      <td>NaN</td>\n",
              "      <td>130</td>\n",
              "      <td>Mexico</td>\n",
              "      <td>1</td>\n",
              "      <td>...</td>\n",
              "      <td>NaN</td>\n",
              "      <td>NaN</td>\n",
              "      <td>NaN</td>\n",
              "      <td>NaN</td>\n",
              "      <td>PGIS</td>\n",
              "      <td>0.0</td>\n",
              "      <td>1.0</td>\n",
              "      <td>1.0</td>\n",
              "      <td>1.0</td>\n",
              "      <td>NaN</td>\n",
              "    </tr>\n",
              "    <tr>\n",
              "      <th>2</th>\n",
              "      <td>197001000001</td>\n",
              "      <td>1970</td>\n",
              "      <td>1</td>\n",
              "      <td>0</td>\n",
              "      <td>NaN</td>\n",
              "      <td>0</td>\n",
              "      <td>NaN</td>\n",
              "      <td>160</td>\n",
              "      <td>Philippines</td>\n",
              "      <td>5</td>\n",
              "      <td>...</td>\n",
              "      <td>NaN</td>\n",
              "      <td>NaN</td>\n",
              "      <td>NaN</td>\n",
              "      <td>NaN</td>\n",
              "      <td>PGIS</td>\n",
              "      <td>-9.0</td>\n",
              "      <td>-9.0</td>\n",
              "      <td>1.0</td>\n",
              "      <td>1.0</td>\n",
              "      <td>NaN</td>\n",
              "    </tr>\n",
              "    <tr>\n",
              "      <th>3</th>\n",
              "      <td>197001000002</td>\n",
              "      <td>1970</td>\n",
              "      <td>1</td>\n",
              "      <td>0</td>\n",
              "      <td>NaN</td>\n",
              "      <td>0</td>\n",
              "      <td>NaN</td>\n",
              "      <td>78</td>\n",
              "      <td>Greece</td>\n",
              "      <td>8</td>\n",
              "      <td>...</td>\n",
              "      <td>NaN</td>\n",
              "      <td>NaN</td>\n",
              "      <td>NaN</td>\n",
              "      <td>NaN</td>\n",
              "      <td>PGIS</td>\n",
              "      <td>-9.0</td>\n",
              "      <td>-9.0</td>\n",
              "      <td>1.0</td>\n",
              "      <td>1.0</td>\n",
              "      <td>NaN</td>\n",
              "    </tr>\n",
              "    <tr>\n",
              "      <th>4</th>\n",
              "      <td>197001000003</td>\n",
              "      <td>1970</td>\n",
              "      <td>1</td>\n",
              "      <td>0</td>\n",
              "      <td>NaN</td>\n",
              "      <td>0</td>\n",
              "      <td>NaN</td>\n",
              "      <td>101</td>\n",
              "      <td>Japan</td>\n",
              "      <td>4</td>\n",
              "      <td>...</td>\n",
              "      <td>NaN</td>\n",
              "      <td>NaN</td>\n",
              "      <td>NaN</td>\n",
              "      <td>NaN</td>\n",
              "      <td>PGIS</td>\n",
              "      <td>-9.0</td>\n",
              "      <td>-9.0</td>\n",
              "      <td>1.0</td>\n",
              "      <td>1.0</td>\n",
              "      <td>NaN</td>\n",
              "    </tr>\n",
              "    <tr>\n",
              "      <th>...</th>\n",
              "      <td>...</td>\n",
              "      <td>...</td>\n",
              "      <td>...</td>\n",
              "      <td>...</td>\n",
              "      <td>...</td>\n",
              "      <td>...</td>\n",
              "      <td>...</td>\n",
              "      <td>...</td>\n",
              "      <td>...</td>\n",
              "      <td>...</td>\n",
              "      <td>...</td>\n",
              "      <td>...</td>\n",
              "      <td>...</td>\n",
              "      <td>...</td>\n",
              "      <td>...</td>\n",
              "      <td>...</td>\n",
              "      <td>...</td>\n",
              "      <td>...</td>\n",
              "      <td>...</td>\n",
              "      <td>...</td>\n",
              "      <td>...</td>\n",
              "    </tr>\n",
              "    <tr>\n",
              "      <th>14254</th>\n",
              "      <td>198108290004</td>\n",
              "      <td>1981</td>\n",
              "      <td>8</td>\n",
              "      <td>29</td>\n",
              "      <td>NaN</td>\n",
              "      <td>0</td>\n",
              "      <td>NaN</td>\n",
              "      <td>97</td>\n",
              "      <td>Israel</td>\n",
              "      <td>10</td>\n",
              "      <td>...</td>\n",
              "      <td>NaN</td>\n",
              "      <td>NaN</td>\n",
              "      <td>NaN</td>\n",
              "      <td>NaN</td>\n",
              "      <td>PGIS</td>\n",
              "      <td>1.0</td>\n",
              "      <td>0.0</td>\n",
              "      <td>0.0</td>\n",
              "      <td>1.0</td>\n",
              "      <td>NaN</td>\n",
              "    </tr>\n",
              "    <tr>\n",
              "      <th>14255</th>\n",
              "      <td>198108290005</td>\n",
              "      <td>1981</td>\n",
              "      <td>8</td>\n",
              "      <td>29</td>\n",
              "      <td>NaN</td>\n",
              "      <td>0</td>\n",
              "      <td>NaN</td>\n",
              "      <td>15</td>\n",
              "      <td>Austria</td>\n",
              "      <td>8</td>\n",
              "      <td>...</td>\n",
              "      <td>NaN</td>\n",
              "      <td>NaN</td>\n",
              "      <td>NaN</td>\n",
              "      <td>NaN</td>\n",
              "      <td>PGIS</td>\n",
              "      <td>-9.0</td>\n",
              "      <td>-9.0</td>\n",
              "      <td>0.0</td>\n",
              "      <td>-9.0</td>\n",
              "      <td>NaN</td>\n",
              "    </tr>\n",
              "    <tr>\n",
              "      <th>14256</th>\n",
              "      <td>198108290006</td>\n",
              "      <td>1981</td>\n",
              "      <td>8</td>\n",
              "      <td>29</td>\n",
              "      <td>NaN</td>\n",
              "      <td>0</td>\n",
              "      <td>NaN</td>\n",
              "      <td>94</td>\n",
              "      <td>Iran</td>\n",
              "      <td>10</td>\n",
              "      <td>...</td>\n",
              "      <td>NaN</td>\n",
              "      <td>NaN</td>\n",
              "      <td>NaN</td>\n",
              "      <td>NaN</td>\n",
              "      <td>PGIS</td>\n",
              "      <td>-9.0</td>\n",
              "      <td>-9.0</td>\n",
              "      <td>0.0</td>\n",
              "      <td>-9.0</td>\n",
              "      <td>NaN</td>\n",
              "    </tr>\n",
              "    <tr>\n",
              "      <th>14257</th>\n",
              "      <td>198108290007</td>\n",
              "      <td>1981</td>\n",
              "      <td>8</td>\n",
              "      <td>29</td>\n",
              "      <td>NaN</td>\n",
              "      <td>0</td>\n",
              "      <td>NaN</td>\n",
              "      <td>94</td>\n",
              "      <td>Iran</td>\n",
              "      <td>10</td>\n",
              "      <td>...</td>\n",
              "      <td>NaN</td>\n",
              "      <td>NaN</td>\n",
              "      <td>NaN</td>\n",
              "      <td>NaN</td>\n",
              "      <td>PGIS</td>\n",
              "      <td>-9.0</td>\n",
              "      <td>-9.0</td>\n",
              "      <td>0.0</td>\n",
              "      <td>-9.0</td>\n",
              "      <td>NaN</td>\n",
              "    </tr>\n",
              "    <tr>\n",
              "      <th>14258</th>\n",
              "      <td>198108300001</td>\n",
              "      <td>1981</td>\n",
              "      <td>8</td>\n",
              "      <td>30</td>\n",
              "      <td>NaN</td>\n",
              "      <td>0</td>\n",
              "      <td>NaN</td>\n",
              "      <td>155</td>\n",
              "      <td>West Bank and Gaza Strip</td>\n",
              "      <td>10</td>\n",
              "      <td>...</td>\n",
              "      <td>NaN</td>\n",
              "      <td>NaN</td>\n",
              "      <td>NaN</td>\n",
              "      <td>NaN</td>\n",
              "      <td>NaN</td>\n",
              "      <td>NaN</td>\n",
              "      <td>NaN</td>\n",
              "      <td>NaN</td>\n",
              "      <td>NaN</td>\n",
              "      <td>NaN</td>\n",
              "    </tr>\n",
              "  </tbody>\n",
              "</table>\n",
              "<p>14259 rows × 135 columns</p>\n",
              "</div>\n",
              "      <button class=\"colab-df-convert\" onclick=\"convertToInteractive('df-8724af27-bc4f-4a1a-b080-d378a9372c4b')\"\n",
              "              title=\"Convert this dataframe to an interactive table.\"\n",
              "              style=\"display:none;\">\n",
              "        \n",
              "  <svg xmlns=\"http://www.w3.org/2000/svg\" height=\"24px\"viewBox=\"0 0 24 24\"\n",
              "       width=\"24px\">\n",
              "    <path d=\"M0 0h24v24H0V0z\" fill=\"none\"/>\n",
              "    <path d=\"M18.56 5.44l.94 2.06.94-2.06 2.06-.94-2.06-.94-.94-2.06-.94 2.06-2.06.94zm-11 1L8.5 8.5l.94-2.06 2.06-.94-2.06-.94L8.5 2.5l-.94 2.06-2.06.94zm10 10l.94 2.06.94-2.06 2.06-.94-2.06-.94-.94-2.06-.94 2.06-2.06.94z\"/><path d=\"M17.41 7.96l-1.37-1.37c-.4-.4-.92-.59-1.43-.59-.52 0-1.04.2-1.43.59L10.3 9.45l-7.72 7.72c-.78.78-.78 2.05 0 2.83L4 21.41c.39.39.9.59 1.41.59.51 0 1.02-.2 1.41-.59l7.78-7.78 2.81-2.81c.8-.78.8-2.07 0-2.86zM5.41 20L4 18.59l7.72-7.72 1.47 1.35L5.41 20z\"/>\n",
              "  </svg>\n",
              "      </button>\n",
              "      \n",
              "  <style>\n",
              "    .colab-df-container {\n",
              "      display:flex;\n",
              "      flex-wrap:wrap;\n",
              "      gap: 12px;\n",
              "    }\n",
              "\n",
              "    .colab-df-convert {\n",
              "      background-color: #E8F0FE;\n",
              "      border: none;\n",
              "      border-radius: 50%;\n",
              "      cursor: pointer;\n",
              "      display: none;\n",
              "      fill: #1967D2;\n",
              "      height: 32px;\n",
              "      padding: 0 0 0 0;\n",
              "      width: 32px;\n",
              "    }\n",
              "\n",
              "    .colab-df-convert:hover {\n",
              "      background-color: #E2EBFA;\n",
              "      box-shadow: 0px 1px 2px rgba(60, 64, 67, 0.3), 0px 1px 3px 1px rgba(60, 64, 67, 0.15);\n",
              "      fill: #174EA6;\n",
              "    }\n",
              "\n",
              "    [theme=dark] .colab-df-convert {\n",
              "      background-color: #3B4455;\n",
              "      fill: #D2E3FC;\n",
              "    }\n",
              "\n",
              "    [theme=dark] .colab-df-convert:hover {\n",
              "      background-color: #434B5C;\n",
              "      box-shadow: 0px 1px 3px 1px rgba(0, 0, 0, 0.15);\n",
              "      filter: drop-shadow(0px 1px 2px rgba(0, 0, 0, 0.3));\n",
              "      fill: #FFFFFF;\n",
              "    }\n",
              "  </style>\n",
              "\n",
              "      <script>\n",
              "        const buttonEl =\n",
              "          document.querySelector('#df-8724af27-bc4f-4a1a-b080-d378a9372c4b button.colab-df-convert');\n",
              "        buttonEl.style.display =\n",
              "          google.colab.kernel.accessAllowed ? 'block' : 'none';\n",
              "\n",
              "        async function convertToInteractive(key) {\n",
              "          const element = document.querySelector('#df-8724af27-bc4f-4a1a-b080-d378a9372c4b');\n",
              "          const dataTable =\n",
              "            await google.colab.kernel.invokeFunction('convertToInteractive',\n",
              "                                                     [key], {});\n",
              "          if (!dataTable) return;\n",
              "\n",
              "          const docLinkHtml = 'Like what you see? Visit the ' +\n",
              "            '<a target=\"_blank\" href=https://colab.research.google.com/notebooks/data_table.ipynb>data table notebook</a>'\n",
              "            + ' to learn more about interactive tables.';\n",
              "          element.innerHTML = '';\n",
              "          dataTable['output_type'] = 'display_data';\n",
              "          await google.colab.output.renderOutput(dataTable, element);\n",
              "          const docLink = document.createElement('div');\n",
              "          docLink.innerHTML = docLinkHtml;\n",
              "          element.appendChild(docLink);\n",
              "        }\n",
              "      </script>\n",
              "    </div>\n",
              "  </div>\n",
              "  "
            ]
          },
          "metadata": {},
          "execution_count": 3
        }
      ]
    },
    {
      "cell_type": "markdown",
      "source": [
        "Step 2 : Understanding the Data"
      ],
      "metadata": {
        "id": "AuLvwV0p7oEx"
      }
    },
    {
      "cell_type": "code",
      "source": [
        "df.info()"
      ],
      "metadata": {
        "colab": {
          "base_uri": "https://localhost:8080/"
        },
        "id": "INwkl7Zu7pDa",
        "outputId": "e0386359-28ac-4bd6-f2d1-01d58e94b613"
      },
      "execution_count": null,
      "outputs": [
        {
          "output_type": "stream",
          "name": "stdout",
          "text": [
            "<class 'pandas.core.frame.DataFrame'>\n",
            "RangeIndex: 14259 entries, 0 to 14258\n",
            "Columns: 135 entries, eventid to related\n",
            "dtypes: float64(74), int64(7), object(54)\n",
            "memory usage: 14.7+ MB\n"
          ]
        }
      ]
    },
    {
      "cell_type": "code",
      "source": [
        "df.describe()"
      ],
      "metadata": {
        "colab": {
          "base_uri": "https://localhost:8080/",
          "height": 394
        },
        "id": "qGVoAh2873IU",
        "outputId": "22f620ac-d4c2-42d9-d467-b8b432a1b107"
      },
      "execution_count": null,
      "outputs": [
        {
          "output_type": "execute_result",
          "data": {
            "text/plain": [
              "            eventid         iyear        imonth          iday      extended  \\\n",
              "count  1.425900e+04  14259.000000  14259.000000  14259.000000  14259.000000   \n",
              "mean   1.977436e+11   1977.372537      6.181079     15.198261      0.021530   \n",
              "std    3.139999e+08      3.143381      3.360118      8.980147      0.145149   \n",
              "min    1.970000e+11   1970.000000      0.000000      0.000000      0.000000   \n",
              "25%    1.976020e+11   1976.000000      3.000000      7.000000      0.000000   \n",
              "50%    1.978122e+11   1978.000000      6.000000     15.000000      0.000000   \n",
              "75%    1.980042e+11   1980.000000      9.000000     23.000000      0.000000   \n",
              "max    1.981083e+11   1986.000000     12.000000     31.000000      1.000000   \n",
              "\n",
              "            country        region      latitude     longitude   specificity  \\\n",
              "count  14259.000000  14259.000000  13772.000000  13772.000000  14258.000000   \n",
              "mean     192.658461      5.705940     29.405349    -25.804561      1.228994   \n",
              "std      175.618845      3.355184     22.209016     55.534477      0.866373   \n",
              "min        4.000000      1.000000    -45.867889   -157.818968      1.000000   \n",
              "25%       69.000000      2.000000     13.743611    -80.214195      1.000000   \n",
              "50%      142.000000      8.000000     37.874043     -5.956210      1.000000   \n",
              "75%      217.000000      8.000000     43.768732     11.256901      1.000000   \n",
              "max      605.000000     12.000000     64.837778    172.636225      5.000000   \n",
              "\n",
              "       ...     ransomamt  ransomamtus    ransompaid  ransompaidus  \\\n",
              "count  ...  3.900000e+02          1.0  8.300000e+01           1.0   \n",
              "mean   ...  3.801887e+06      20000.0  1.426646e+06           0.0   \n",
              "std    ...  5.094505e+07          NaN  4.988971e+06           NaN   \n",
              "min    ...  0.000000e+00      20000.0  0.000000e+00           0.0   \n",
              "25%    ...  0.000000e+00      20000.0  0.000000e+00           0.0   \n",
              "50%    ...  0.000000e+00      20000.0  8.000000e+04           0.0   \n",
              "75%    ...  4.000000e+05      20000.0  9.000000e+05           0.0   \n",
              "max    ...  1.000000e+09      20000.0  4.100000e+07           0.0   \n",
              "\n",
              "       hostkidoutcome   nreleased       INT_LOG      INT_IDEO      INT_MISC  \\\n",
              "count      573.000000  448.000000  14258.000000  14258.000000  14258.000000   \n",
              "mean         2.895288    7.303571     -3.559896     -3.512344      0.285734   \n",
              "std          1.272158   26.432842      4.524166      4.573991      0.647098   \n",
              "min          2.000000  -99.000000     -9.000000     -9.000000     -9.000000   \n",
              "25%          2.000000    1.000000     -9.000000     -9.000000      0.000000   \n",
              "50%          2.000000    1.000000      0.000000      0.000000      0.000000   \n",
              "75%          4.000000    2.000000      0.000000      0.000000      1.000000   \n",
              "max          7.000000  215.000000      1.000000      1.000000      1.000000   \n",
              "\n",
              "            INT_ANY  \n",
              "count  14258.000000  \n",
              "mean      -2.428111  \n",
              "std        4.484891  \n",
              "min       -9.000000  \n",
              "25%       -9.000000  \n",
              "50%        0.000000  \n",
              "75%        1.000000  \n",
              "max        1.000000  \n",
              "\n",
              "[8 rows x 81 columns]"
            ],
            "text/html": [
              "\n",
              "  <div id=\"df-ae44335c-2e08-4972-b7c0-f3f50f504c6b\">\n",
              "    <div class=\"colab-df-container\">\n",
              "      <div>\n",
              "<style scoped>\n",
              "    .dataframe tbody tr th:only-of-type {\n",
              "        vertical-align: middle;\n",
              "    }\n",
              "\n",
              "    .dataframe tbody tr th {\n",
              "        vertical-align: top;\n",
              "    }\n",
              "\n",
              "    .dataframe thead th {\n",
              "        text-align: right;\n",
              "    }\n",
              "</style>\n",
              "<table border=\"1\" class=\"dataframe\">\n",
              "  <thead>\n",
              "    <tr style=\"text-align: right;\">\n",
              "      <th></th>\n",
              "      <th>eventid</th>\n",
              "      <th>iyear</th>\n",
              "      <th>imonth</th>\n",
              "      <th>iday</th>\n",
              "      <th>extended</th>\n",
              "      <th>country</th>\n",
              "      <th>region</th>\n",
              "      <th>latitude</th>\n",
              "      <th>longitude</th>\n",
              "      <th>specificity</th>\n",
              "      <th>...</th>\n",
              "      <th>ransomamt</th>\n",
              "      <th>ransomamtus</th>\n",
              "      <th>ransompaid</th>\n",
              "      <th>ransompaidus</th>\n",
              "      <th>hostkidoutcome</th>\n",
              "      <th>nreleased</th>\n",
              "      <th>INT_LOG</th>\n",
              "      <th>INT_IDEO</th>\n",
              "      <th>INT_MISC</th>\n",
              "      <th>INT_ANY</th>\n",
              "    </tr>\n",
              "  </thead>\n",
              "  <tbody>\n",
              "    <tr>\n",
              "      <th>count</th>\n",
              "      <td>1.425900e+04</td>\n",
              "      <td>14259.000000</td>\n",
              "      <td>14259.000000</td>\n",
              "      <td>14259.000000</td>\n",
              "      <td>14259.000000</td>\n",
              "      <td>14259.000000</td>\n",
              "      <td>14259.000000</td>\n",
              "      <td>13772.000000</td>\n",
              "      <td>13772.000000</td>\n",
              "      <td>14258.000000</td>\n",
              "      <td>...</td>\n",
              "      <td>3.900000e+02</td>\n",
              "      <td>1.0</td>\n",
              "      <td>8.300000e+01</td>\n",
              "      <td>1.0</td>\n",
              "      <td>573.000000</td>\n",
              "      <td>448.000000</td>\n",
              "      <td>14258.000000</td>\n",
              "      <td>14258.000000</td>\n",
              "      <td>14258.000000</td>\n",
              "      <td>14258.000000</td>\n",
              "    </tr>\n",
              "    <tr>\n",
              "      <th>mean</th>\n",
              "      <td>1.977436e+11</td>\n",
              "      <td>1977.372537</td>\n",
              "      <td>6.181079</td>\n",
              "      <td>15.198261</td>\n",
              "      <td>0.021530</td>\n",
              "      <td>192.658461</td>\n",
              "      <td>5.705940</td>\n",
              "      <td>29.405349</td>\n",
              "      <td>-25.804561</td>\n",
              "      <td>1.228994</td>\n",
              "      <td>...</td>\n",
              "      <td>3.801887e+06</td>\n",
              "      <td>20000.0</td>\n",
              "      <td>1.426646e+06</td>\n",
              "      <td>0.0</td>\n",
              "      <td>2.895288</td>\n",
              "      <td>7.303571</td>\n",
              "      <td>-3.559896</td>\n",
              "      <td>-3.512344</td>\n",
              "      <td>0.285734</td>\n",
              "      <td>-2.428111</td>\n",
              "    </tr>\n",
              "    <tr>\n",
              "      <th>std</th>\n",
              "      <td>3.139999e+08</td>\n",
              "      <td>3.143381</td>\n",
              "      <td>3.360118</td>\n",
              "      <td>8.980147</td>\n",
              "      <td>0.145149</td>\n",
              "      <td>175.618845</td>\n",
              "      <td>3.355184</td>\n",
              "      <td>22.209016</td>\n",
              "      <td>55.534477</td>\n",
              "      <td>0.866373</td>\n",
              "      <td>...</td>\n",
              "      <td>5.094505e+07</td>\n",
              "      <td>NaN</td>\n",
              "      <td>4.988971e+06</td>\n",
              "      <td>NaN</td>\n",
              "      <td>1.272158</td>\n",
              "      <td>26.432842</td>\n",
              "      <td>4.524166</td>\n",
              "      <td>4.573991</td>\n",
              "      <td>0.647098</td>\n",
              "      <td>4.484891</td>\n",
              "    </tr>\n",
              "    <tr>\n",
              "      <th>min</th>\n",
              "      <td>1.970000e+11</td>\n",
              "      <td>1970.000000</td>\n",
              "      <td>0.000000</td>\n",
              "      <td>0.000000</td>\n",
              "      <td>0.000000</td>\n",
              "      <td>4.000000</td>\n",
              "      <td>1.000000</td>\n",
              "      <td>-45.867889</td>\n",
              "      <td>-157.818968</td>\n",
              "      <td>1.000000</td>\n",
              "      <td>...</td>\n",
              "      <td>0.000000e+00</td>\n",
              "      <td>20000.0</td>\n",
              "      <td>0.000000e+00</td>\n",
              "      <td>0.0</td>\n",
              "      <td>2.000000</td>\n",
              "      <td>-99.000000</td>\n",
              "      <td>-9.000000</td>\n",
              "      <td>-9.000000</td>\n",
              "      <td>-9.000000</td>\n",
              "      <td>-9.000000</td>\n",
              "    </tr>\n",
              "    <tr>\n",
              "      <th>25%</th>\n",
              "      <td>1.976020e+11</td>\n",
              "      <td>1976.000000</td>\n",
              "      <td>3.000000</td>\n",
              "      <td>7.000000</td>\n",
              "      <td>0.000000</td>\n",
              "      <td>69.000000</td>\n",
              "      <td>2.000000</td>\n",
              "      <td>13.743611</td>\n",
              "      <td>-80.214195</td>\n",
              "      <td>1.000000</td>\n",
              "      <td>...</td>\n",
              "      <td>0.000000e+00</td>\n",
              "      <td>20000.0</td>\n",
              "      <td>0.000000e+00</td>\n",
              "      <td>0.0</td>\n",
              "      <td>2.000000</td>\n",
              "      <td>1.000000</td>\n",
              "      <td>-9.000000</td>\n",
              "      <td>-9.000000</td>\n",
              "      <td>0.000000</td>\n",
              "      <td>-9.000000</td>\n",
              "    </tr>\n",
              "    <tr>\n",
              "      <th>50%</th>\n",
              "      <td>1.978122e+11</td>\n",
              "      <td>1978.000000</td>\n",
              "      <td>6.000000</td>\n",
              "      <td>15.000000</td>\n",
              "      <td>0.000000</td>\n",
              "      <td>142.000000</td>\n",
              "      <td>8.000000</td>\n",
              "      <td>37.874043</td>\n",
              "      <td>-5.956210</td>\n",
              "      <td>1.000000</td>\n",
              "      <td>...</td>\n",
              "      <td>0.000000e+00</td>\n",
              "      <td>20000.0</td>\n",
              "      <td>8.000000e+04</td>\n",
              "      <td>0.0</td>\n",
              "      <td>2.000000</td>\n",
              "      <td>1.000000</td>\n",
              "      <td>0.000000</td>\n",
              "      <td>0.000000</td>\n",
              "      <td>0.000000</td>\n",
              "      <td>0.000000</td>\n",
              "    </tr>\n",
              "    <tr>\n",
              "      <th>75%</th>\n",
              "      <td>1.980042e+11</td>\n",
              "      <td>1980.000000</td>\n",
              "      <td>9.000000</td>\n",
              "      <td>23.000000</td>\n",
              "      <td>0.000000</td>\n",
              "      <td>217.000000</td>\n",
              "      <td>8.000000</td>\n",
              "      <td>43.768732</td>\n",
              "      <td>11.256901</td>\n",
              "      <td>1.000000</td>\n",
              "      <td>...</td>\n",
              "      <td>4.000000e+05</td>\n",
              "      <td>20000.0</td>\n",
              "      <td>9.000000e+05</td>\n",
              "      <td>0.0</td>\n",
              "      <td>4.000000</td>\n",
              "      <td>2.000000</td>\n",
              "      <td>0.000000</td>\n",
              "      <td>0.000000</td>\n",
              "      <td>1.000000</td>\n",
              "      <td>1.000000</td>\n",
              "    </tr>\n",
              "    <tr>\n",
              "      <th>max</th>\n",
              "      <td>1.981083e+11</td>\n",
              "      <td>1986.000000</td>\n",
              "      <td>12.000000</td>\n",
              "      <td>31.000000</td>\n",
              "      <td>1.000000</td>\n",
              "      <td>605.000000</td>\n",
              "      <td>12.000000</td>\n",
              "      <td>64.837778</td>\n",
              "      <td>172.636225</td>\n",
              "      <td>5.000000</td>\n",
              "      <td>...</td>\n",
              "      <td>1.000000e+09</td>\n",
              "      <td>20000.0</td>\n",
              "      <td>4.100000e+07</td>\n",
              "      <td>0.0</td>\n",
              "      <td>7.000000</td>\n",
              "      <td>215.000000</td>\n",
              "      <td>1.000000</td>\n",
              "      <td>1.000000</td>\n",
              "      <td>1.000000</td>\n",
              "      <td>1.000000</td>\n",
              "    </tr>\n",
              "  </tbody>\n",
              "</table>\n",
              "<p>8 rows × 81 columns</p>\n",
              "</div>\n",
              "      <button class=\"colab-df-convert\" onclick=\"convertToInteractive('df-ae44335c-2e08-4972-b7c0-f3f50f504c6b')\"\n",
              "              title=\"Convert this dataframe to an interactive table.\"\n",
              "              style=\"display:none;\">\n",
              "        \n",
              "  <svg xmlns=\"http://www.w3.org/2000/svg\" height=\"24px\"viewBox=\"0 0 24 24\"\n",
              "       width=\"24px\">\n",
              "    <path d=\"M0 0h24v24H0V0z\" fill=\"none\"/>\n",
              "    <path d=\"M18.56 5.44l.94 2.06.94-2.06 2.06-.94-2.06-.94-.94-2.06-.94 2.06-2.06.94zm-11 1L8.5 8.5l.94-2.06 2.06-.94-2.06-.94L8.5 2.5l-.94 2.06-2.06.94zm10 10l.94 2.06.94-2.06 2.06-.94-2.06-.94-.94-2.06-.94 2.06-2.06.94z\"/><path d=\"M17.41 7.96l-1.37-1.37c-.4-.4-.92-.59-1.43-.59-.52 0-1.04.2-1.43.59L10.3 9.45l-7.72 7.72c-.78.78-.78 2.05 0 2.83L4 21.41c.39.39.9.59 1.41.59.51 0 1.02-.2 1.41-.59l7.78-7.78 2.81-2.81c.8-.78.8-2.07 0-2.86zM5.41 20L4 18.59l7.72-7.72 1.47 1.35L5.41 20z\"/>\n",
              "  </svg>\n",
              "      </button>\n",
              "      \n",
              "  <style>\n",
              "    .colab-df-container {\n",
              "      display:flex;\n",
              "      flex-wrap:wrap;\n",
              "      gap: 12px;\n",
              "    }\n",
              "\n",
              "    .colab-df-convert {\n",
              "      background-color: #E8F0FE;\n",
              "      border: none;\n",
              "      border-radius: 50%;\n",
              "      cursor: pointer;\n",
              "      display: none;\n",
              "      fill: #1967D2;\n",
              "      height: 32px;\n",
              "      padding: 0 0 0 0;\n",
              "      width: 32px;\n",
              "    }\n",
              "\n",
              "    .colab-df-convert:hover {\n",
              "      background-color: #E2EBFA;\n",
              "      box-shadow: 0px 1px 2px rgba(60, 64, 67, 0.3), 0px 1px 3px 1px rgba(60, 64, 67, 0.15);\n",
              "      fill: #174EA6;\n",
              "    }\n",
              "\n",
              "    [theme=dark] .colab-df-convert {\n",
              "      background-color: #3B4455;\n",
              "      fill: #D2E3FC;\n",
              "    }\n",
              "\n",
              "    [theme=dark] .colab-df-convert:hover {\n",
              "      background-color: #434B5C;\n",
              "      box-shadow: 0px 1px 3px 1px rgba(0, 0, 0, 0.15);\n",
              "      filter: drop-shadow(0px 1px 2px rgba(0, 0, 0, 0.3));\n",
              "      fill: #FFFFFF;\n",
              "    }\n",
              "  </style>\n",
              "\n",
              "      <script>\n",
              "        const buttonEl =\n",
              "          document.querySelector('#df-ae44335c-2e08-4972-b7c0-f3f50f504c6b button.colab-df-convert');\n",
              "        buttonEl.style.display =\n",
              "          google.colab.kernel.accessAllowed ? 'block' : 'none';\n",
              "\n",
              "        async function convertToInteractive(key) {\n",
              "          const element = document.querySelector('#df-ae44335c-2e08-4972-b7c0-f3f50f504c6b');\n",
              "          const dataTable =\n",
              "            await google.colab.kernel.invokeFunction('convertToInteractive',\n",
              "                                                     [key], {});\n",
              "          if (!dataTable) return;\n",
              "\n",
              "          const docLinkHtml = 'Like what you see? Visit the ' +\n",
              "            '<a target=\"_blank\" href=https://colab.research.google.com/notebooks/data_table.ipynb>data table notebook</a>'\n",
              "            + ' to learn more about interactive tables.';\n",
              "          element.innerHTML = '';\n",
              "          dataTable['output_type'] = 'display_data';\n",
              "          await google.colab.output.renderOutput(dataTable, element);\n",
              "          const docLink = document.createElement('div');\n",
              "          docLink.innerHTML = docLinkHtml;\n",
              "          element.appendChild(docLink);\n",
              "        }\n",
              "      </script>\n",
              "    </div>\n",
              "  </div>\n",
              "  "
            ]
          },
          "metadata": {},
          "execution_count": 5
        }
      ]
    },
    {
      "cell_type": "code",
      "source": [
        "df.rename(columns={'iyear':'Year','imonth':'Month','iday':\"Day\",'gname':'Group','country_txt':'Country','region_txt':'Region','provstate':'State','city':'City','latitude':'Latitude',\n",
        "    'longitude':'Longitude','summary':'Summary','attacktype1_txt':'Attacktype','targtype1_txt':'Targettype','weaptype1_txt':'Weapon','nkill':'Killed','nwound':'Wounded'},inplace=True)"
      ],
      "metadata": {
        "id": "N22SkzmK9Bx5"
      },
      "execution_count": null,
      "outputs": []
    },
    {
      "cell_type": "code",
      "source": [
        "df = df[['Year','Month','Day','Country','State','Region','City','Latitude','Longitude',\"Attacktype\",'Killed',\n",
        "               'Wounded','target1','Summary','Group','Targettype','Weapon','motive']]"
      ],
      "metadata": {
        "id": "lsh3Mwp79N59"
      },
      "execution_count": null,
      "outputs": []
    },
    {
      "cell_type": "code",
      "source": [
        "df.info()"
      ],
      "metadata": {
        "colab": {
          "base_uri": "https://localhost:8080/"
        },
        "id": "jQdfaKcP9SQg",
        "outputId": "61958440-e62f-477d-a103-a5618ccc02e2"
      },
      "execution_count": null,
      "outputs": [
        {
          "output_type": "stream",
          "name": "stdout",
          "text": [
            "<class 'pandas.core.frame.DataFrame'>\n",
            "RangeIndex: 14259 entries, 0 to 14258\n",
            "Data columns (total 18 columns):\n",
            " #   Column      Non-Null Count  Dtype  \n",
            "---  ------      --------------  -----  \n",
            " 0   Year        14259 non-null  int64  \n",
            " 1   Month       14259 non-null  int64  \n",
            " 2   Day         14259 non-null  int64  \n",
            " 3   Country     14259 non-null  object \n",
            " 4   State       14195 non-null  object \n",
            " 5   Region      14259 non-null  object \n",
            " 6   City        14258 non-null  object \n",
            " 7   Latitude    13772 non-null  float64\n",
            " 8   Longitude   13772 non-null  float64\n",
            " 9   Attacktype  14258 non-null  object \n",
            " 10  Killed      12175 non-null  float64\n",
            " 11  Wounded     10792 non-null  float64\n",
            " 12  target1     14116 non-null  object \n",
            " 13  Summary     913 non-null    object \n",
            " 14  Group       14258 non-null  object \n",
            " 15  Targettype  14258 non-null  object \n",
            " 16  Weapon      14258 non-null  object \n",
            " 17  motive      647 non-null    object \n",
            "dtypes: float64(4), int64(3), object(11)\n",
            "memory usage: 2.0+ MB\n"
          ]
        }
      ]
    },
    {
      "cell_type": "code",
      "source": [
        "df.shape"
      ],
      "metadata": {
        "colab": {
          "base_uri": "https://localhost:8080/"
        },
        "id": "q5_DG9_Q9pPc",
        "outputId": "a47ff9f8-a0aa-437a-aa8c-9f19138490ff"
      },
      "execution_count": null,
      "outputs": [
        {
          "output_type": "execute_result",
          "data": {
            "text/plain": [
              "(14259, 18)"
            ]
          },
          "metadata": {},
          "execution_count": 9
        }
      ]
    },
    {
      "cell_type": "markdown",
      "source": [
        "Checking the columns values"
      ],
      "metadata": {
        "id": "etbGqv639yXP"
      }
    },
    {
      "cell_type": "code",
      "source": [
        "df.columns.values"
      ],
      "metadata": {
        "colab": {
          "base_uri": "https://localhost:8080/"
        },
        "id": "hXDvsaTU9zCs",
        "outputId": "98706523-fdb3-48ce-cdc6-fc81594a1bed"
      },
      "execution_count": null,
      "outputs": [
        {
          "output_type": "execute_result",
          "data": {
            "text/plain": [
              "array(['Year', 'Month', 'Day', 'Country', 'State', 'Region', 'City',\n",
              "       'Latitude', 'Longitude', 'Attacktype', 'Killed', 'Wounded',\n",
              "       'target1', 'Summary', 'Group', 'Targettype', 'Weapon', 'motive'],\n",
              "      dtype=object)"
            ]
          },
          "metadata": {},
          "execution_count": 10
        }
      ]
    },
    {
      "cell_type": "markdown",
      "source": [
        "Step 3 : Checking Nulls"
      ],
      "metadata": {
        "id": "klMuBwZX-Ah-"
      }
    },
    {
      "cell_type": "code",
      "source": [
        "df.isnull().sum()"
      ],
      "metadata": {
        "colab": {
          "base_uri": "https://localhost:8080/"
        },
        "id": "RWl0YzDG-BUP",
        "outputId": "b363479c-59c9-4ea0-9f23-ea692c02ec72"
      },
      "execution_count": null,
      "outputs": [
        {
          "output_type": "execute_result",
          "data": {
            "text/plain": [
              "Year              0\n",
              "Month             0\n",
              "Day               0\n",
              "Country           0\n",
              "State            64\n",
              "Region            0\n",
              "City              1\n",
              "Latitude        487\n",
              "Longitude       487\n",
              "Attacktype        1\n",
              "Killed         2084\n",
              "Wounded        3467\n",
              "target1         143\n",
              "Summary       13346\n",
              "Group             1\n",
              "Targettype        1\n",
              "Weapon            1\n",
              "motive        13612\n",
              "dtype: int64"
            ]
          },
          "metadata": {},
          "execution_count": 11
        }
      ]
    },
    {
      "cell_type": "code",
      "source": [
        "Killed_per_region = df.groupby(['Region'],as_index = False)['Killed']\n",
        "Killed_per_region.sum()"
      ],
      "metadata": {
        "colab": {
          "base_uri": "https://localhost:8080/",
          "height": 426
        },
        "id": "oa2rwwdp-M9Y",
        "outputId": "722e5326-26e7-4e00-ed87-bafb1031a3f7"
      },
      "execution_count": null,
      "outputs": [
        {
          "output_type": "execute_result",
          "data": {
            "text/plain": [
              "                         Region  Killed\n",
              "0         Australasia & Oceania     5.0\n",
              "1   Central America & Caribbean  5966.0\n",
              "2                     East Asia    37.0\n",
              "3                Eastern Europe    33.0\n",
              "4                     Middle Ea     0.0\n",
              "5    Middle East & North Africa  2034.0\n",
              "6                 North America   293.0\n",
              "7                 South America  1112.0\n",
              "8                    South Asia   166.0\n",
              "9                Southeast Asia  1134.0\n",
              "10           Sub-Saharan Africa   671.0\n",
              "11               Western Europe  3158.0"
            ],
            "text/html": [
              "\n",
              "  <div id=\"df-125fa213-8079-476b-85cf-52e2b3ec362f\">\n",
              "    <div class=\"colab-df-container\">\n",
              "      <div>\n",
              "<style scoped>\n",
              "    .dataframe tbody tr th:only-of-type {\n",
              "        vertical-align: middle;\n",
              "    }\n",
              "\n",
              "    .dataframe tbody tr th {\n",
              "        vertical-align: top;\n",
              "    }\n",
              "\n",
              "    .dataframe thead th {\n",
              "        text-align: right;\n",
              "    }\n",
              "</style>\n",
              "<table border=\"1\" class=\"dataframe\">\n",
              "  <thead>\n",
              "    <tr style=\"text-align: right;\">\n",
              "      <th></th>\n",
              "      <th>Region</th>\n",
              "      <th>Killed</th>\n",
              "    </tr>\n",
              "  </thead>\n",
              "  <tbody>\n",
              "    <tr>\n",
              "      <th>0</th>\n",
              "      <td>Australasia &amp; Oceania</td>\n",
              "      <td>5.0</td>\n",
              "    </tr>\n",
              "    <tr>\n",
              "      <th>1</th>\n",
              "      <td>Central America &amp; Caribbean</td>\n",
              "      <td>5966.0</td>\n",
              "    </tr>\n",
              "    <tr>\n",
              "      <th>2</th>\n",
              "      <td>East Asia</td>\n",
              "      <td>37.0</td>\n",
              "    </tr>\n",
              "    <tr>\n",
              "      <th>3</th>\n",
              "      <td>Eastern Europe</td>\n",
              "      <td>33.0</td>\n",
              "    </tr>\n",
              "    <tr>\n",
              "      <th>4</th>\n",
              "      <td>Middle Ea</td>\n",
              "      <td>0.0</td>\n",
              "    </tr>\n",
              "    <tr>\n",
              "      <th>5</th>\n",
              "      <td>Middle East &amp; North Africa</td>\n",
              "      <td>2034.0</td>\n",
              "    </tr>\n",
              "    <tr>\n",
              "      <th>6</th>\n",
              "      <td>North America</td>\n",
              "      <td>293.0</td>\n",
              "    </tr>\n",
              "    <tr>\n",
              "      <th>7</th>\n",
              "      <td>South America</td>\n",
              "      <td>1112.0</td>\n",
              "    </tr>\n",
              "    <tr>\n",
              "      <th>8</th>\n",
              "      <td>South Asia</td>\n",
              "      <td>166.0</td>\n",
              "    </tr>\n",
              "    <tr>\n",
              "      <th>9</th>\n",
              "      <td>Southeast Asia</td>\n",
              "      <td>1134.0</td>\n",
              "    </tr>\n",
              "    <tr>\n",
              "      <th>10</th>\n",
              "      <td>Sub-Saharan Africa</td>\n",
              "      <td>671.0</td>\n",
              "    </tr>\n",
              "    <tr>\n",
              "      <th>11</th>\n",
              "      <td>Western Europe</td>\n",
              "      <td>3158.0</td>\n",
              "    </tr>\n",
              "  </tbody>\n",
              "</table>\n",
              "</div>\n",
              "      <button class=\"colab-df-convert\" onclick=\"convertToInteractive('df-125fa213-8079-476b-85cf-52e2b3ec362f')\"\n",
              "              title=\"Convert this dataframe to an interactive table.\"\n",
              "              style=\"display:none;\">\n",
              "        \n",
              "  <svg xmlns=\"http://www.w3.org/2000/svg\" height=\"24px\"viewBox=\"0 0 24 24\"\n",
              "       width=\"24px\">\n",
              "    <path d=\"M0 0h24v24H0V0z\" fill=\"none\"/>\n",
              "    <path d=\"M18.56 5.44l.94 2.06.94-2.06 2.06-.94-2.06-.94-.94-2.06-.94 2.06-2.06.94zm-11 1L8.5 8.5l.94-2.06 2.06-.94-2.06-.94L8.5 2.5l-.94 2.06-2.06.94zm10 10l.94 2.06.94-2.06 2.06-.94-2.06-.94-.94-2.06-.94 2.06-2.06.94z\"/><path d=\"M17.41 7.96l-1.37-1.37c-.4-.4-.92-.59-1.43-.59-.52 0-1.04.2-1.43.59L10.3 9.45l-7.72 7.72c-.78.78-.78 2.05 0 2.83L4 21.41c.39.39.9.59 1.41.59.51 0 1.02-.2 1.41-.59l7.78-7.78 2.81-2.81c.8-.78.8-2.07 0-2.86zM5.41 20L4 18.59l7.72-7.72 1.47 1.35L5.41 20z\"/>\n",
              "  </svg>\n",
              "      </button>\n",
              "      \n",
              "  <style>\n",
              "    .colab-df-container {\n",
              "      display:flex;\n",
              "      flex-wrap:wrap;\n",
              "      gap: 12px;\n",
              "    }\n",
              "\n",
              "    .colab-df-convert {\n",
              "      background-color: #E8F0FE;\n",
              "      border: none;\n",
              "      border-radius: 50%;\n",
              "      cursor: pointer;\n",
              "      display: none;\n",
              "      fill: #1967D2;\n",
              "      height: 32px;\n",
              "      padding: 0 0 0 0;\n",
              "      width: 32px;\n",
              "    }\n",
              "\n",
              "    .colab-df-convert:hover {\n",
              "      background-color: #E2EBFA;\n",
              "      box-shadow: 0px 1px 2px rgba(60, 64, 67, 0.3), 0px 1px 3px 1px rgba(60, 64, 67, 0.15);\n",
              "      fill: #174EA6;\n",
              "    }\n",
              "\n",
              "    [theme=dark] .colab-df-convert {\n",
              "      background-color: #3B4455;\n",
              "      fill: #D2E3FC;\n",
              "    }\n",
              "\n",
              "    [theme=dark] .colab-df-convert:hover {\n",
              "      background-color: #434B5C;\n",
              "      box-shadow: 0px 1px 3px 1px rgba(0, 0, 0, 0.15);\n",
              "      filter: drop-shadow(0px 1px 2px rgba(0, 0, 0, 0.3));\n",
              "      fill: #FFFFFF;\n",
              "    }\n",
              "  </style>\n",
              "\n",
              "      <script>\n",
              "        const buttonEl =\n",
              "          document.querySelector('#df-125fa213-8079-476b-85cf-52e2b3ec362f button.colab-df-convert');\n",
              "        buttonEl.style.display =\n",
              "          google.colab.kernel.accessAllowed ? 'block' : 'none';\n",
              "\n",
              "        async function convertToInteractive(key) {\n",
              "          const element = document.querySelector('#df-125fa213-8079-476b-85cf-52e2b3ec362f');\n",
              "          const dataTable =\n",
              "            await google.colab.kernel.invokeFunction('convertToInteractive',\n",
              "                                                     [key], {});\n",
              "          if (!dataTable) return;\n",
              "\n",
              "          const docLinkHtml = 'Like what you see? Visit the ' +\n",
              "            '<a target=\"_blank\" href=https://colab.research.google.com/notebooks/data_table.ipynb>data table notebook</a>'\n",
              "            + ' to learn more about interactive tables.';\n",
              "          element.innerHTML = '';\n",
              "          dataTable['output_type'] = 'display_data';\n",
              "          await google.colab.output.renderOutput(dataTable, element);\n",
              "          const docLink = document.createElement('div');\n",
              "          docLink.innerHTML = docLinkHtml;\n",
              "          element.appendChild(docLink);\n",
              "        }\n",
              "      </script>\n",
              "    </div>\n",
              "  </div>\n",
              "  "
            ]
          },
          "metadata": {},
          "execution_count": 12
        }
      ]
    },
    {
      "cell_type": "code",
      "source": [
        "cor = df.corr()\n",
        "cor"
      ],
      "metadata": {
        "colab": {
          "base_uri": "https://localhost:8080/",
          "height": 333
        },
        "id": "Dyi38ONG-U8U",
        "outputId": "366b0feb-0ea5-44d7-9a85-dcb7e64db9e0"
      },
      "execution_count": null,
      "outputs": [
        {
          "output_type": "execute_result",
          "data": {
            "text/plain": [
              "               Year     Month       Day  Latitude  Longitude    Killed  \\\n",
              "Year       1.000000 -0.086104 -0.008597 -0.243160   0.043684  0.069887   \n",
              "Month     -0.086104  1.000000  0.002492 -0.015858  -0.016020  0.000026   \n",
              "Day       -0.008597  0.002492  1.000000  0.017052   0.014141 -0.002646   \n",
              "Latitude  -0.243160 -0.015858  0.017052  1.000000   0.346106 -0.058878   \n",
              "Longitude  0.043684 -0.016020  0.014141  0.346106   1.000000 -0.011959   \n",
              "Killed     0.069887  0.000026 -0.002646 -0.058878  -0.011959  1.000000   \n",
              "Wounded    0.025275  0.007402  0.006857  0.010251   0.115535  0.160503   \n",
              "\n",
              "            Wounded  \n",
              "Year       0.025275  \n",
              "Month      0.007402  \n",
              "Day        0.006857  \n",
              "Latitude   0.010251  \n",
              "Longitude  0.115535  \n",
              "Killed     0.160503  \n",
              "Wounded    1.000000  "
            ],
            "text/html": [
              "\n",
              "  <div id=\"df-69e04ec2-6950-4501-a905-aaabd320c2ca\">\n",
              "    <div class=\"colab-df-container\">\n",
              "      <div>\n",
              "<style scoped>\n",
              "    .dataframe tbody tr th:only-of-type {\n",
              "        vertical-align: middle;\n",
              "    }\n",
              "\n",
              "    .dataframe tbody tr th {\n",
              "        vertical-align: top;\n",
              "    }\n",
              "\n",
              "    .dataframe thead th {\n",
              "        text-align: right;\n",
              "    }\n",
              "</style>\n",
              "<table border=\"1\" class=\"dataframe\">\n",
              "  <thead>\n",
              "    <tr style=\"text-align: right;\">\n",
              "      <th></th>\n",
              "      <th>Year</th>\n",
              "      <th>Month</th>\n",
              "      <th>Day</th>\n",
              "      <th>Latitude</th>\n",
              "      <th>Longitude</th>\n",
              "      <th>Killed</th>\n",
              "      <th>Wounded</th>\n",
              "    </tr>\n",
              "  </thead>\n",
              "  <tbody>\n",
              "    <tr>\n",
              "      <th>Year</th>\n",
              "      <td>1.000000</td>\n",
              "      <td>-0.086104</td>\n",
              "      <td>-0.008597</td>\n",
              "      <td>-0.243160</td>\n",
              "      <td>0.043684</td>\n",
              "      <td>0.069887</td>\n",
              "      <td>0.025275</td>\n",
              "    </tr>\n",
              "    <tr>\n",
              "      <th>Month</th>\n",
              "      <td>-0.086104</td>\n",
              "      <td>1.000000</td>\n",
              "      <td>0.002492</td>\n",
              "      <td>-0.015858</td>\n",
              "      <td>-0.016020</td>\n",
              "      <td>0.000026</td>\n",
              "      <td>0.007402</td>\n",
              "    </tr>\n",
              "    <tr>\n",
              "      <th>Day</th>\n",
              "      <td>-0.008597</td>\n",
              "      <td>0.002492</td>\n",
              "      <td>1.000000</td>\n",
              "      <td>0.017052</td>\n",
              "      <td>0.014141</td>\n",
              "      <td>-0.002646</td>\n",
              "      <td>0.006857</td>\n",
              "    </tr>\n",
              "    <tr>\n",
              "      <th>Latitude</th>\n",
              "      <td>-0.243160</td>\n",
              "      <td>-0.015858</td>\n",
              "      <td>0.017052</td>\n",
              "      <td>1.000000</td>\n",
              "      <td>0.346106</td>\n",
              "      <td>-0.058878</td>\n",
              "      <td>0.010251</td>\n",
              "    </tr>\n",
              "    <tr>\n",
              "      <th>Longitude</th>\n",
              "      <td>0.043684</td>\n",
              "      <td>-0.016020</td>\n",
              "      <td>0.014141</td>\n",
              "      <td>0.346106</td>\n",
              "      <td>1.000000</td>\n",
              "      <td>-0.011959</td>\n",
              "      <td>0.115535</td>\n",
              "    </tr>\n",
              "    <tr>\n",
              "      <th>Killed</th>\n",
              "      <td>0.069887</td>\n",
              "      <td>0.000026</td>\n",
              "      <td>-0.002646</td>\n",
              "      <td>-0.058878</td>\n",
              "      <td>-0.011959</td>\n",
              "      <td>1.000000</td>\n",
              "      <td>0.160503</td>\n",
              "    </tr>\n",
              "    <tr>\n",
              "      <th>Wounded</th>\n",
              "      <td>0.025275</td>\n",
              "      <td>0.007402</td>\n",
              "      <td>0.006857</td>\n",
              "      <td>0.010251</td>\n",
              "      <td>0.115535</td>\n",
              "      <td>0.160503</td>\n",
              "      <td>1.000000</td>\n",
              "    </tr>\n",
              "  </tbody>\n",
              "</table>\n",
              "</div>\n",
              "      <button class=\"colab-df-convert\" onclick=\"convertToInteractive('df-69e04ec2-6950-4501-a905-aaabd320c2ca')\"\n",
              "              title=\"Convert this dataframe to an interactive table.\"\n",
              "              style=\"display:none;\">\n",
              "        \n",
              "  <svg xmlns=\"http://www.w3.org/2000/svg\" height=\"24px\"viewBox=\"0 0 24 24\"\n",
              "       width=\"24px\">\n",
              "    <path d=\"M0 0h24v24H0V0z\" fill=\"none\"/>\n",
              "    <path d=\"M18.56 5.44l.94 2.06.94-2.06 2.06-.94-2.06-.94-.94-2.06-.94 2.06-2.06.94zm-11 1L8.5 8.5l.94-2.06 2.06-.94-2.06-.94L8.5 2.5l-.94 2.06-2.06.94zm10 10l.94 2.06.94-2.06 2.06-.94-2.06-.94-.94-2.06-.94 2.06-2.06.94z\"/><path d=\"M17.41 7.96l-1.37-1.37c-.4-.4-.92-.59-1.43-.59-.52 0-1.04.2-1.43.59L10.3 9.45l-7.72 7.72c-.78.78-.78 2.05 0 2.83L4 21.41c.39.39.9.59 1.41.59.51 0 1.02-.2 1.41-.59l7.78-7.78 2.81-2.81c.8-.78.8-2.07 0-2.86zM5.41 20L4 18.59l7.72-7.72 1.47 1.35L5.41 20z\"/>\n",
              "  </svg>\n",
              "      </button>\n",
              "      \n",
              "  <style>\n",
              "    .colab-df-container {\n",
              "      display:flex;\n",
              "      flex-wrap:wrap;\n",
              "      gap: 12px;\n",
              "    }\n",
              "\n",
              "    .colab-df-convert {\n",
              "      background-color: #E8F0FE;\n",
              "      border: none;\n",
              "      border-radius: 50%;\n",
              "      cursor: pointer;\n",
              "      display: none;\n",
              "      fill: #1967D2;\n",
              "      height: 32px;\n",
              "      padding: 0 0 0 0;\n",
              "      width: 32px;\n",
              "    }\n",
              "\n",
              "    .colab-df-convert:hover {\n",
              "      background-color: #E2EBFA;\n",
              "      box-shadow: 0px 1px 2px rgba(60, 64, 67, 0.3), 0px 1px 3px 1px rgba(60, 64, 67, 0.15);\n",
              "      fill: #174EA6;\n",
              "    }\n",
              "\n",
              "    [theme=dark] .colab-df-convert {\n",
              "      background-color: #3B4455;\n",
              "      fill: #D2E3FC;\n",
              "    }\n",
              "\n",
              "    [theme=dark] .colab-df-convert:hover {\n",
              "      background-color: #434B5C;\n",
              "      box-shadow: 0px 1px 3px 1px rgba(0, 0, 0, 0.15);\n",
              "      filter: drop-shadow(0px 1px 2px rgba(0, 0, 0, 0.3));\n",
              "      fill: #FFFFFF;\n",
              "    }\n",
              "  </style>\n",
              "\n",
              "      <script>\n",
              "        const buttonEl =\n",
              "          document.querySelector('#df-69e04ec2-6950-4501-a905-aaabd320c2ca button.colab-df-convert');\n",
              "        buttonEl.style.display =\n",
              "          google.colab.kernel.accessAllowed ? 'block' : 'none';\n",
              "\n",
              "        async function convertToInteractive(key) {\n",
              "          const element = document.querySelector('#df-69e04ec2-6950-4501-a905-aaabd320c2ca');\n",
              "          const dataTable =\n",
              "            await google.colab.kernel.invokeFunction('convertToInteractive',\n",
              "                                                     [key], {});\n",
              "          if (!dataTable) return;\n",
              "\n",
              "          const docLinkHtml = 'Like what you see? Visit the ' +\n",
              "            '<a target=\"_blank\" href=https://colab.research.google.com/notebooks/data_table.ipynb>data table notebook</a>'\n",
              "            + ' to learn more about interactive tables.';\n",
              "          element.innerHTML = '';\n",
              "          dataTable['output_type'] = 'display_data';\n",
              "          await google.colab.output.renderOutput(dataTable, element);\n",
              "          const docLink = document.createElement('div');\n",
              "          docLink.innerHTML = docLinkHtml;\n",
              "          element.appendChild(docLink);\n",
              "        }\n",
              "      </script>\n",
              "    </div>\n",
              "  </div>\n",
              "  "
            ]
          },
          "metadata": {},
          "execution_count": 13
        }
      ]
    },
    {
      "cell_type": "markdown",
      "source": [
        "Step 4 : Data Visualization\n",
        "\n",
        "Heatmap"
      ],
      "metadata": {
        "id": "qsZK3-Ru-YyV"
      }
    },
    {
      "cell_type": "code",
      "source": [
        "sns.heatmap(df.corr(),annot=True)"
      ],
      "metadata": {
        "colab": {
          "base_uri": "https://localhost:8080/",
          "height": 316
        },
        "id": "MoPhTH6F-Zlc",
        "outputId": "d89885f1-6c2a-44d1-a3fb-e5f0ce397b06"
      },
      "execution_count": null,
      "outputs": [
        {
          "output_type": "execute_result",
          "data": {
            "text/plain": [
              "<matplotlib.axes._subplots.AxesSubplot at 0x7f6056a0cb90>"
            ]
          },
          "metadata": {},
          "execution_count": 14
        },
        {
          "output_type": "display_data",
          "data": {
            "text/plain": [
              "<Figure size 432x288 with 2 Axes>"
            ],
            "image/png": "[encoded data removed]"
          },
          "metadata": {
            "needs_background": "light"
          }
        }
      ]
    },
    {
      "cell_type": "code",
      "source": [
        "plt.subplots(figsize=(10,10))\n",
        "sns.barplot(df['Country'].value_counts()[:10].index,df['Country'].value_counts()[:10])\n",
        "plt.title('Top Countries Affected',fontsize=20)\n",
        "plt.xlabel('Countries')\n",
        "plt.ylabel('Count')\n",
        "plt.xticks(rotation = 50)\n",
        "plt.show()"
      ],
      "metadata": {
        "colab": {
          "base_uri": "https://localhost:8080/",
          "height": 456
        },
        "id": "FLEDlnw--6Kp",
        "outputId": "5c6ca23a-15c1-4bb2-b86b-c07bd02a4331"
      },
      "execution_count": null,
      "outputs": [
        {
          "output_type": "stream",
          "name": "stderr",
          "text": [
            "/usr/local/lib/python3.7/dist-packages/seaborn/_decorators.py:43: FutureWarning: Pass the following variables as keyword args: x, y. From version 0.12, the only valid positional argument will be `data`, and passing other arguments without an explicit keyword will result in an error or misinterpretation.\n",
            "  FutureWarning\n"
          ]
        },
        {
          "output_type": "display_data",
          "data": {
            "text/plain": [
              "<Figure size 720x720 with 1 Axes>"
            ],
            "image/png": "[encoded data removed]"
          },
          "metadata": {
            "needs_background": "light"
          }
        }
      ]
    },
    {
      "cell_type": "markdown",
      "source": [
        "Bar plot of the number of people killed."
      ],
      "metadata": {
        "id": "rak7AI7x_CoY"
      }
    },
    {
      "cell_type": "code",
      "source": [
        "df[['Attacktype','Killed']].groupby([\"Attacktype\"],axis=0).sum().plot(kind='bar',figsize=(10,10))\n",
        "plt.xticks(rotation=50)\n",
        "plt.title(\"Number of killed \",fontsize=20)\n",
        "plt.ylabel('Number of people')\n",
        "plt.xlabel('Attack type')\n",
        "plt.show()"
      ],
      "metadata": {
        "colab": {
          "base_uri": "https://localhost:8080/",
          "height": 445
        },
        "id": "QZVdPpdG_DSm",
        "outputId": "7f52dde6-8f8c-40f2-db54-21d9ffec0b46"
      },
      "execution_count": null,
      "outputs": [
        {
          "output_type": "display_data",
          "data": {
            "text/plain": [
              "<Figure size 720x720 with 1 Axes>"
            ],
            "image/png": "[encoded data removed]"
          },
          "metadata": {
            "needs_background": "light"
          }
        }
      ]
    },
    {
      "cell_type": "markdown",
      "source": [
        "Bar plot of the number of people wounded."
      ],
      "metadata": {
        "id": "yOKR0-1O_WGe"
      }
    },
    {
      "cell_type": "code",
      "source": [
        "df[['Attacktype','Wounded']].groupby([\"Attacktype\"],axis=0).sum().plot(kind='bar',figsize=(10,10),color='red')\n",
        "plt.xticks(rotation=50)\n",
        "plt.title(\"Number of Wounded \",fontsize=20)\n",
        "plt.ylabel('Number of people')\n",
        "plt.xlabel('Attack type')\n",
        "plt.show()"
      ],
      "metadata": {
        "colab": {
          "base_uri": "https://localhost:8080/",
          "height": 441
        },
        "id": "4cw70ibp_W3p",
        "outputId": "6e063eb1-a3ff-42a8-bf10-47fde469da87"
      },
      "execution_count": null,
      "outputs": [
        {
          "output_type": "display_data",
          "data": {
            "text/plain": [
              "<Figure size 720x720 with 1 Axes>"
            ],
            "image/png": "[encoded data removed]"
          },
          "metadata": {
            "needs_background": "light"
          }
        }
      ]
    },
    {
      "cell_type": "markdown",
      "source": [
        "The terrorist activities by region in each year."
      ],
      "metadata": {
        "id": "D__rSGaN_64s"
      }
    },
    {
      "cell_type": "code",
      "source": [
        "pd.crosstab(df['Year'], df['Region']).plot(kind = 'area', stacked = False, figsize = (10,5))\n",
        "plt.title('Terrorist Activities By Region In Each Year', fontsize = 25)\n",
        "plt.ylabel('Number of Attacks', fontsize = 20)\n",
        "plt.xlabel(\"Year\", fontsize = 20)\n",
        "plt.show()"
      ],
      "metadata": {
        "colab": {
          "base_uri": "https://localhost:8080/",
          "height": 216
        },
        "id": "9VgeQVAP_-E0",
        "outputId": "c180a708-b7eb-4ce3-86b7-66f86a7a7235"
      },
      "execution_count": null,
      "outputs": [
        {
          "output_type": "display_data",
          "data": {
            "text/plain": [
              "<Figure size 720x360 with 1 Axes>"
            ],
            "image/png": "[encoded data removed]"
          },
          "metadata": {
            "needs_background": "light"
          }
        }
      ]
    },
    {
      "cell_type": "code",
      "source": [
        "Attack_per_country = df['Country'].value_counts()[:10]\n",
        "print(Attack_per_country)"
      ],
      "metadata": {
        "colab": {
          "base_uri": "https://localhost:8080/"
        },
        "id": "NzV3eS05AMp6",
        "outputId": "e6ce47b1-d8f4-4949-98d0-475a0042e18a"
      },
      "execution_count": null,
      "outputs": [
        {
          "output_type": "stream",
          "name": "stdout",
          "text": [
            "United Kingdom    1861\n",
            "United States     1587\n",
            "El Salvador       1585\n",
            "Italy             1181\n",
            "Spain             1175\n",
            "Colombia           659\n",
            "Guatemala          632\n",
            "France             612\n",
            "Turkey             585\n",
            "Nicaragua          345\n",
            "Name: Country, dtype: int64\n"
          ]
        }
      ]
    },
    {
      "cell_type": "markdown",
      "source": [
        "Bar plot of the method of attacks."
      ],
      "metadata": {
        "id": "Ha2agh2KATbD"
      }
    },
    {
      "cell_type": "code",
      "source": [
        "plt.figure(figsize=(16,3))\n",
        "sns.countplot(x = df['Attacktype'], order = df['Attacktype'].value_counts().index)\n",
        "plt.xticks(rotation=45)\n",
        "plt.xlabel('Method')\n",
        "plt.title('Method of Attack',fontsize=20)\n",
        "plt.show()"
      ],
      "metadata": {
        "colab": {
          "base_uri": "https://localhost:8080/",
          "height": 149
        },
        "id": "ncl9PddXAUFU",
        "outputId": "4190d39c-f35a-46dc-a812-a6fb5c94d426"
      },
      "execution_count": null,
      "outputs": [
        {
          "output_type": "display_data",
          "data": {
            "text/plain": [
              "<Figure size 1152x216 with 1 Axes>"
            ],
            "image/png": "[encoded data removed]"
          },
          "metadata": {
            "needs_background": "light"
          }
        }
      ]
    },
    {
      "cell_type": "markdown",
      "source": [
        "Counting terrorist activities of each year through countplot."
      ],
      "metadata": {
        "id": "G2Nw_Cd-Ajmd"
      }
    },
    {
      "cell_type": "code",
      "source": [
        "plt.subplots(figsize=(15,5))\n",
        "sns.countplot('Year',data = df)\n",
        "plt.xticks(rotation=90)\n",
        "plt.title('Number Of Terrorist Activities Each Year')\n",
        "plt.grid()\n",
        "plt.show()"
      ],
      "metadata": {
        "colab": {
          "base_uri": "https://localhost:8080/",
          "height": 210
        },
        "id": "H8LXbvS8Akl6",
        "outputId": "51dfa3e9-22aa-414f-d575-28fba24b3985"
      },
      "execution_count": null,
      "outputs": [
        {
          "output_type": "stream",
          "name": "stderr",
          "text": [
            "/usr/local/lib/python3.7/dist-packages/seaborn/_decorators.py:43: FutureWarning: Pass the following variable as a keyword arg: x. From version 0.12, the only valid positional argument will be `data`, and passing other arguments without an explicit keyword will result in an error or misinterpretation.\n",
            "  FutureWarning\n"
          ]
        },
        {
          "output_type": "display_data",
          "data": {
            "text/plain": [
              "<Figure size 1080x360 with 1 Axes>"
            ],
            "image/png": "[encoded data removed]"
          },
          "metadata": {
            "needs_background": "light"
          }
        }
      ]
    },
    {
      "cell_type": "markdown",
      "source": [
        "Conclusion and Results :\n",
        "Country with the most attacks: Iraq\n",
        "\n",
        "City with the most attacks: Unknown\n",
        "\n",
        "Region with the most attacks: Middle East & North Africa\n",
        "\n",
        "Year with the most attacks: 2014\n",
        "\n",
        "Month with the most attacks: 5\n",
        "\n",
        "Group with the most attacks: Unknown\n",
        "\n",
        "Most Attack Types: Bombing/Explosion"
      ],
      "metadata": {
        "id": "h6_2uRc1A2nl"
      }
    },
    {
      "cell_type": "markdown",
      "source": [
        "Thank you!!!"
      ],
      "metadata": {
        "id": "8BH2vm9rA4Uj"
      }
    }
  ]
}